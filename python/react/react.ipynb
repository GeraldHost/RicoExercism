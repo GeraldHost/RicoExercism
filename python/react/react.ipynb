{
 "cells": [
  {
   "cell_type": "code",
   "execution_count": 109,
   "metadata": {},
   "outputs": [],
   "source": [
    "from functools import partial\n",
    "\n",
    "class InputCell:\n",
    "    def __init__(self, initial_value):\n",
    "        self._value = initial_value \n",
    "        self.subscribers = set()\n",
    "\n",
    "    def subscribe(self, compute_cell):\n",
    "        self.subscribers.add(compute_cell)\n",
    "        return self\n",
    "\n",
    "    def dispatch(self):\n",
    "        for s in self.subscribers:\n",
    "            s.compute_value()\n",
    "\n",
    "    @property\n",
    "    def value(self):\n",
    "        return self._value\n",
    "    \n",
    "    @value.setter\n",
    "    def value(self, value):\n",
    "        self._value = value\n",
    "        self.dispatch()\n",
    "\n",
    "\n",
    "class ComputeCell:\n",
    "    def __init__(self, inputs, compute_function):\n",
    "        self.inputs = [i.subscribe(self) for i in inputs] \n",
    "        self.compute_function = compute_function\n",
    "        self.callback = set()\n",
    "        self.subscribers = set()\n",
    "\n",
    "    def subscribe(self, compute_cell):\n",
    "        self.subscribers.add(compute_cell)\n",
    "        return self\n",
    "\n",
    "    def dispatch(self):\n",
    "        for s in self.subscribers:\n",
    "            s.compute_value()\n",
    "\n",
    "    def add_callback(self, callback):\n",
    "        self.callback.add(callback) \n",
    "\n",
    "    def remove_callback(self, callback):\n",
    "        if callback in self.callback:\n",
    "            self.callback.remove(callback) \n",
    "    \n",
    "    @property\n",
    "    def value(self):\n",
    "        return self.compute_value()\n",
    "\n",
    "    def compute_value(self):\n",
    "        values = [i.value for i in self.inputs]\n",
    "        value = self.compute_function(values) \n",
    "        self.call_callbacks(value)\n",
    "        return value\n",
    "\n",
    "    def call_callbacks(self, value):\n",
    "        for cb in self.callback: \n",
    "            cb(value)\n"
   ]
  },
  {
   "cell_type": "code",
   "execution_count": 110,
   "metadata": {},
   "outputs": [
    {
     "data": {
      "text/plain": [
       "[]"
      ]
     },
     "execution_count": 110,
     "metadata": {},
     "output_type": "execute_result"
    }
   ],
   "source": [
    "def callback_factory(observer):\n",
    "    def callback(observer, value):\n",
    "        observer.append(value)\n",
    "    return partial(callback, observer)\n",
    "\n",
    "input_ = InputCell(1)\n",
    "plus_one = ComputeCell([input_], lambda inputs: inputs[0] + 1)\n",
    "minus_one1 = ComputeCell([input_], lambda inputs: inputs[0] - 1)\n",
    "minus_one2 = ComputeCell([minus_one1], lambda inputs: inputs[0] - 1)\n",
    "output = ComputeCell(\n",
    "    [plus_one, minus_one2],\n",
    "    lambda inputs: inputs[0] * inputs[1]\n",
    ")\n",
    "\n",
    "observer = []\n",
    "callback1 = callback_factory(observer)\n",
    "\n",
    "output.add_callback(callback1)\n",
    "input_.value = 4\n",
    "# self.assertEqual(observer[-1], 10)\n",
    "\n",
    "observer"
   ]
  },
  {
   "cell_type": "code",
   "execution_count": null,
   "metadata": {},
   "outputs": [],
   "source": []
  }
 ],
 "metadata": {
  "kernelspec": {
   "display_name": "Python 3",
   "language": "python",
   "name": "python3"
  },
  "language_info": {
   "codemirror_mode": {
    "name": "ipython",
    "version": 3
   },
   "file_extension": ".py",
   "mimetype": "text/x-python",
   "name": "python",
   "nbconvert_exporter": "python",
   "pygments_lexer": "ipython3",
   "version": "3.5.4"
  }
 },
 "nbformat": 4,
 "nbformat_minor": 4
}
