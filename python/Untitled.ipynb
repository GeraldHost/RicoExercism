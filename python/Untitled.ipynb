{
 "cells": [
  {
   "cell_type": "code",
   "execution_count": 64,
   "metadata": {},
   "outputs": [
    {
     "name": "stdout",
     "output_type": "stream",
     "text": [
      "['2']\n",
      "['2']\n"
     ]
    }
   ],
   "source": [
    "class TreeNode:\n",
    "    def __init__(self, data, left=None, right=None):\n",
    "        self.data = data\n",
    "        self.left = left\n",
    "        self.right = right\n",
    "\n",
    "    def insert(self, data):\n",
    "        if int(data) <= int(self.data):\n",
    "            if self.left == None:\n",
    "                self.left = TreeNode(data)\n",
    "            else:\n",
    "                self.left.insert(data)\n",
    "        elif int(data) > int(self.data):\n",
    "            if self.right == None:\n",
    "                self.right = TreeNode(data)\n",
    "            else:\n",
    "                self.right.insert(data)\n",
    "       \n",
    "    def sort(self, ls = None):\n",
    "        if ls == None:\n",
    "            ls = []\n",
    "        if self.left != None:\n",
    "            self.left.sort(ls)\n",
    "        ls.append(self.data)\n",
    "        if self.right != None:\n",
    "            self.right.sort(ls)     \n",
    "        return ls\n",
    "\n",
    "    def __str__(self):\n",
    "        fmt = 'TreeNode(data={}, left={}, right={})'\n",
    "        return fmt.format(self.data, self.left, self.right)\n",
    "\n",
    "\n",
    "class BinarySearchTree:\n",
    "    def __init__(self, tree_data):\n",
    "        self.tree = TreeNode(tree_data[0])\n",
    "        if len(tree_data) > 1:\n",
    "            for data in tree_data[1:]:\n",
    "                self.tree.insert(data)\n",
    "\n",
    "    def data(self):\n",
    "        return self.tree\n",
    "    \n",
    "    def sorted_data(self):\n",
    "        return self.tree.sort()\n",
    "\n",
    "resp = BinarySearchTree([\"2\"]).sorted_data()\n",
    "resp2 = BinarySearchTree([\"2\"]).sorted_data()\n",
    "print(resp)\n",
    "print(resp2)"
   ]
  },
  {
   "cell_type": "code",
   "execution_count": null,
   "metadata": {},
   "outputs": [],
   "source": []
  },
  {
   "cell_type": "code",
   "execution_count": 70,
   "metadata": {},
   "outputs": [
    {
     "name": "stdout",
     "output_type": "stream",
     "text": [
      "32\n"
     ]
    }
   ],
   "source": [
    "def test() -> str:\n",
    "    return 32\n",
    "\n",
    "print(test())"
   ]
  },
  {
   "cell_type": "code",
   "execution_count": null,
   "metadata": {},
   "outputs": [],
   "source": []
  }
 ],
 "metadata": {
  "kernelspec": {
   "display_name": "Python 3",
   "language": "python",
   "name": "python3"
  },
  "language_info": {
   "codemirror_mode": {
    "name": "ipython",
    "version": 3
   },
   "file_extension": ".py",
   "mimetype": "text/x-python",
   "name": "python",
   "nbconvert_exporter": "python",
   "pygments_lexer": "ipython3",
   "version": "3.5.4"
  }
 },
 "nbformat": 4,
 "nbformat_minor": 4
}
