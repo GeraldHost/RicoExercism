{
 "cells": [
  {
   "cell_type": "code",
   "execution_count": 90,
   "metadata": {},
   "outputs": [
    {
     "data": {
      "text/plain": [
       "'\\n1: royal flush\\n2: straight flush\\n3: four of a kind\\n4: full house\\n5: flush\\n6: straight\\n7: three of a kind \\n8: two pair \\n9: pair\\n'"
      ]
     },
     "execution_count": 90,
     "metadata": {},
     "output_type": "execute_result"
    }
   ],
   "source": [
    "# 1: 9 royal flush       [12, 1, 1, 1, 1] 5\n",
    "# 2: 8 straight flush    [4, 2, 1, 1, 1] 5\n",
    "# 3: 7 four of a kind    [4, 1]          2\n",
    "# 4: 6 full house        [3, 2]          2\n",
    "# 5: 5 flush             [3, 1, 2, 1, 1] 5\n",
    "# 6: 4 straight          [3, 1, 1, 2, 1] 5\n",
    "# 7: 3 three of a kind   [3, 1, 1]       3\n",
    "# 8: 2 two pair          [2, 2, 1]       3\n",
    "# 9: 1 pair              [2, 1, 1, 1]    4\n",
    "# T: 0 high card         [1, 1, 1, 1, 1] 5"
   ]
  },
  {
   "cell_type": "code",
   "execution_count": 471,
   "metadata": {},
   "outputs": [],
   "source": [
    "hands = [\"4D 5S 6S 8D 3C\", \"2S 4C 7S 9H 10H\", \"3S 4S 5D 6H JH\"]\n",
    "# winners = [\"3S 4S 5D 6H JH\"]\n",
    "ranks_list = ['2', '3', '4', '5', '6', '7', '8', '9', '10', 'J', 'Q', 'K','A']"
   ]
  },
  {
   "cell_type": "code",
   "execution_count": 479,
   "metadata": {},
   "outputs": [
    {
     "data": {
      "text/plain": [
       "(['3S 4S 5D 6H JH'],\n",
       " [(2, ((1, 1, 1, 1, 9), (9, 4, 3, 2, 1))),\n",
       "  (1, ((1, 1, 1, 1, 8), (8, 7, 5, 2, 0))),\n",
       "  (0, ((1, 1, 1, 1, 6), (6, 4, 3, 2, 1)))])"
      ]
     },
     "execution_count": 479,
     "metadata": {},
     "output_type": "execute_result"
    }
   ],
   "source": [
    "def parse_hand(hand):\n",
    "    parsed = [(card[: -1], card[-1: ]) for i, card in enumerate(hand.split(' '))]\n",
    "    ranks_count = {\n",
    "      rank: ''.join(hand).count(rank) for rank,\n",
    "      _ in parsed\n",
    "    }\n",
    "    counts, ranks = list(zip( * sorted([(count, ranks_list.index(rank)) for rank, count in ranks_count.items()])[::-1]))\n",
    "\n",
    "    if len(counts) == 5:\n",
    "        if ranks[0: 2] == (12, 3):\n",
    "            ranks = (3, 2, 1, 0, -1)\n",
    "        straight = ranks[0] - ranks[4] == 4\n",
    "        flush = len({\n",
    "          suit\n",
    "          for _,\n",
    "          suit in parsed\n",
    "        }) == 1\n",
    "    \n",
    "        high_card_counts = (1, 1, 1, 1, ranks[0])\n",
    "        straight_counts = (3, 1, 1, 2, 1)\n",
    "        flush_counts = (3, 1, 2, 1, 1)\n",
    "        straight_flush_counts = (4, 2, 1, 1, 1 + ranks[-1: ][0])\n",
    "        \n",
    "        counts = [\n",
    "          [high_card_counts, straight_counts],\n",
    "          [flush_counts, straight_flush_counts]\n",
    "        ][flush][straight]\n",
    "\n",
    "    return counts, ranks\n",
    "\n",
    "r = [(i, parse_hand(hand)) for i, hand in enumerate(hands)]\n",
    "h = sorted(r, key = lambda x: x[1], reverse = True)\n",
    "m = max(h, key=lambda x: x[1][0])[1][0]\n",
    "[hands[s[0]] for s in h if s[1][0] == m], h"
   ]
  },
  {
   "cell_type": "code",
   "execution_count": 389,
   "metadata": {},
   "outputs": [
    {
     "data": {
      "text/plain": [
       "(1, 2, 3, 2)"
      ]
     },
     "execution_count": 389,
     "metadata": {},
     "output_type": "execute_result"
    }
   ],
   "source": [
    "a = [(1, 1, 1, 1, 1, 2), (1, 1, 1, 1, 1)]\n",
    "sorted(a)\n",
    "\n",
    "a = (1, 2, 3)\n",
    "a + tuple([2])"
   ]
  },
  {
   "cell_type": "code",
   "execution_count": 409,
   "metadata": {},
   "outputs": [
    {
     "data": {
      "text/plain": [
       "'straight'"
      ]
     },
     "execution_count": 409,
     "metadata": {},
     "output_type": "execute_result"
    }
   ],
   "source": [
    "a = [[\"high-card\", \"straight\"], [\"flush\", \"straight flush\"]]\n",
    "s = True\n",
    "f = False\n",
    "\n",
    "a[f][s]"
   ]
  },
  {
   "cell_type": "code",
   "execution_count": 469,
   "metadata": {},
   "outputs": [
    {
     "ename": "TypeError",
     "evalue": "'int' object is not subscriptable",
     "output_type": "error",
     "traceback": [
      "\u001b[0;31m---------------------------------------------------------------------------\u001b[0m",
      "\u001b[0;31mTypeError\u001b[0m                                 Traceback (most recent call last)",
      "\u001b[0;32m<ipython-input-469-bea539423ebf>\u001b[0m in \u001b[0;36m<module>\u001b[0;34m\u001b[0m\n\u001b[1;32m      2\u001b[0m \u001b[0mb\u001b[0m \u001b[0;34m=\u001b[0m \u001b[0;34m(\u001b[0m\u001b[0;36m4\u001b[0m\u001b[0;34m,\u001b[0m \u001b[0;36m2\u001b[0m\u001b[0;34m,\u001b[0m \u001b[0;36m1\u001b[0m\u001b[0;34m,\u001b[0m \u001b[0;36m1\u001b[0m\u001b[0;34m,\u001b[0m \u001b[0;36m9\u001b[0m\u001b[0;34m)\u001b[0m\u001b[0;34m\u001b[0m\u001b[0m\n\u001b[1;32m      3\u001b[0m \u001b[0;34m\u001b[0m\u001b[0m\n\u001b[0;32m----> 4\u001b[0;31m \u001b[0mmax\u001b[0m\u001b[0;34m(\u001b[0m\u001b[0;34m[\u001b[0m\u001b[0ma\u001b[0m\u001b[0;34m,\u001b[0m \u001b[0mb\u001b[0m\u001b[0;34m]\u001b[0m\u001b[0;34m,\u001b[0m \u001b[0mkey\u001b[0m\u001b[0;34m=\u001b[0m\u001b[0;32mlambda\u001b[0m \u001b[0mx\u001b[0m\u001b[0;34m:\u001b[0m \u001b[0mx\u001b[0m\u001b[0;34m[\u001b[0m\u001b[0;36m1\u001b[0m\u001b[0;34m]\u001b[0m\u001b[0;34m[\u001b[0m\u001b[0;36m0\u001b[0m\u001b[0;34m]\u001b[0m\u001b[0;34m)\u001b[0m\u001b[0;34m\u001b[0m\u001b[0m\n\u001b[0m",
      "\u001b[0;32m<ipython-input-469-bea539423ebf>\u001b[0m in \u001b[0;36m<lambda>\u001b[0;34m(x)\u001b[0m\n\u001b[1;32m      2\u001b[0m \u001b[0mb\u001b[0m \u001b[0;34m=\u001b[0m \u001b[0;34m(\u001b[0m\u001b[0;36m4\u001b[0m\u001b[0;34m,\u001b[0m \u001b[0;36m2\u001b[0m\u001b[0;34m,\u001b[0m \u001b[0;36m1\u001b[0m\u001b[0;34m,\u001b[0m \u001b[0;36m1\u001b[0m\u001b[0;34m,\u001b[0m \u001b[0;36m9\u001b[0m\u001b[0;34m)\u001b[0m\u001b[0;34m\u001b[0m\u001b[0m\n\u001b[1;32m      3\u001b[0m \u001b[0;34m\u001b[0m\u001b[0m\n\u001b[0;32m----> 4\u001b[0;31m \u001b[0mmax\u001b[0m\u001b[0;34m(\u001b[0m\u001b[0;34m[\u001b[0m\u001b[0ma\u001b[0m\u001b[0;34m,\u001b[0m \u001b[0mb\u001b[0m\u001b[0;34m]\u001b[0m\u001b[0;34m,\u001b[0m \u001b[0mkey\u001b[0m\u001b[0;34m=\u001b[0m\u001b[0;32mlambda\u001b[0m \u001b[0mx\u001b[0m\u001b[0;34m:\u001b[0m \u001b[0mx\u001b[0m\u001b[0;34m[\u001b[0m\u001b[0;36m1\u001b[0m\u001b[0;34m]\u001b[0m\u001b[0;34m[\u001b[0m\u001b[0;36m0\u001b[0m\u001b[0;34m]\u001b[0m\u001b[0;34m)\u001b[0m\u001b[0;34m\u001b[0m\u001b[0m\n\u001b[0m",
      "\u001b[0;31mTypeError\u001b[0m: 'int' object is not subscriptable"
     ]
    }
   ],
   "source": [
    "a = (4, 2, 1, 1, 5)\n",
    "b = (4, 2, 1, 1, 9)\n",
    "\n",
    "max([a, b], key=lambda x: x[1][0])"
   ]
  },
  {
   "cell_type": "code",
   "execution_count": null,
   "metadata": {},
   "outputs": [],
   "source": []
  }
 ],
 "metadata": {
  "kernelspec": {
   "display_name": "Python 3",
   "language": "python",
   "name": "python3"
  },
  "language_info": {
   "codemirror_mode": {
    "name": "ipython",
    "version": 3
   },
   "file_extension": ".py",
   "mimetype": "text/x-python",
   "name": "python",
   "nbconvert_exporter": "python",
   "pygments_lexer": "ipython3",
   "version": "3.5.4"
  }
 },
 "nbformat": 4,
 "nbformat_minor": 4
}
