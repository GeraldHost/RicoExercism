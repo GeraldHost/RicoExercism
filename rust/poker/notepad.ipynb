{
 "cells": [
  {
   "cell_type": "code",
   "execution_count": 30,
   "metadata": {},
   "outputs": [
    {
     "name": "stdout",
     "output_type": "stream",
     "text": [
      "ordered, false\n"
     ]
    }
   ],
   "source": [
    "use std::cmp::Ordering;\n",
    "\n",
    "#[derive(Eq, PartialEq)]\n",
    "pub enum NumberName {\n",
    "    One,\n",
    "    Two,\n",
    "    Three\n",
    "}\n",
    "\n",
    "impl PartialOrd for NumberName {\n",
    "    fn partial_cmp(&self, other: &NumberName) -> Option<Ordering> {\n",
    "        Some(self.cmp(other))\n",
    "    }\n",
    "}\n",
    "\n",
    "impl Ord for NumberName {\n",
    "    fn cmp(&self, other: &NumberName) -> Ordering {\n",
    "        let resp = [self, other].iter().map(|x| {\n",
    "            match x {\n",
    "                One => 1,\n",
    "                Two => 2, \n",
    "                Three => 3,\n",
    "            }\n",
    "        }).collect::<Vec<usize>>();\n",
    "        resp[0].cmp(&resp[1])\n",
    "    }\n",
    "}\n",
    "\n",
    "pub fn main() {\n",
    "    let resp = NumberName::One < NumberName::One;\n",
    "    println!(\"{}, {}\", \"ordered\", resp);\n",
    "}\n",
    "\n",
    "main();"
   ]
  },
  {
   "cell_type": "code",
   "execution_count": 41,
   "metadata": {},
   "outputs": [
    {
     "ename": "Error",
     "evalue": "can't compare `[&str; 1]` with `str`",
     "output_type": "error",
     "traceback": [
      "a == b",
      "\u001b[91m  ^^\u001b[0m \u001b[94mno implementation for `[&str; 1] == str`\u001b[0m",
      "can't compare `[&str; 1]` with `str`"
     ]
    }
   ],
   "source": [
    "let a = &[\"what is this\"];\n",
    "let b = \"what is this\";\n",
    "na == b"
   ]
  },
  {
   "cell_type": "code",
   "execution_count": null,
   "metadata": {},
   "outputs": [],
   "source": []
  }
 ],
 "metadata": {
  "kernelspec": {
   "display_name": "Rust",
   "language": "rust",
   "name": "rust"
  },
  "language_info": {
   "codemirror_mode": "rust",
   "file_extension": ".rs",
   "mimetype": "text/rust",
   "name": "Rust",
   "pygment_lexer": "rust",
   "version": ""
  }
 },
 "nbformat": 4,
 "nbformat_minor": 2
}
