{
 "cells": [
  {
   "cell_type": "code",
   "execution_count": 18,
   "metadata": {},
   "outputs": [],
   "source": [
    ":dep futures = \"0.3\""
   ]
  },
  {
   "cell_type": "code",
   "execution_count": 29,
   "metadata": {},
   "outputs": [
    {
     "name": "stdout",
     "output_type": "stream",
     "text": [
      "hello, world!\n",
      "hello, world!\n",
      "hello, jake!\n"
     ]
    }
   ],
   "source": [
    "use futures::executor::block_on;\n",
    "\n",
    "async fn hello_world() {\n",
    "    println!(\"hello, world!\");\n",
    "}\n",
    "\n",
    "async fn hello_jake() {\n",
    "    hello_world().await;\n",
    "    println!(\"hello, jake!\");\n",
    "}\n",
    "\n",
    "fn main() {\n",
    "    let f1 = hello_world();\n",
    "    let f2 = hello_jake();\n",
    "    let a = async {\n",
    "     futures::join!(f1, f2);   \n",
    "    };\n",
    "    block_on(a);\n",
    "}\n",
    "\n",
    "main();"
   ]
  },
  {
   "cell_type": "code",
   "execution_count": null,
   "metadata": {},
   "outputs": [],
   "source": []
  }
 ],
 "metadata": {
  "kernelspec": {
   "display_name": "Rust",
   "language": "rust",
   "name": "rust"
  },
  "language_info": {
   "codemirror_mode": "rust",
   "file_extension": ".rs",
   "mimetype": "text/rust",
   "name": "Rust",
   "pygment_lexer": "rust",
   "version": ""
  }
 },
 "nbformat": 4,
 "nbformat_minor": 4
}
